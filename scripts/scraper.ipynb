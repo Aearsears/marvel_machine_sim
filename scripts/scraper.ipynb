{
 "cells": [
  {
   "cell_type": "code",
   "execution_count": 51,
   "metadata": {},
   "outputs": [],
   "source": [
    "from bs4 import BeautifulSoup\n",
    "import requests\n",
    "import shutil\n",
    "import time\n",
    "import os\n",
    "site =\"https://maplestory.nexon.net/game/marvel-machine\"\n",
    "#\"small-4 columns\", \"prize-group\", \"item-scroll preview\", \"item-icons\", each backgroung-image url in their and download it\n",
    "PATH =\"img/2021/\"\n",
    "page = requests.get(site)"
   ]
  },
  {
   "cell_type": "code",
   "execution_count": 47,
   "metadata": {},
   "outputs": [],
   "source": [
    "soup = BeautifulSoup(page.content, 'html.parser')\n",
    "links = soup.find_all('div',class_='small-4 columns')\n",
    "results=[]\n",
    "for link in links:\n",
    "    results.extend(link.find_all('img'))"
   ]
  },
  {
   "cell_type": "code",
   "execution_count": 48,
   "metadata": {},
   "outputs": [],
   "source": [
    "for link in results:\n",
    "    r = requests.get(link['src'], stream=True)\n",
    "    if r.status_code == 200:\n",
    "        #with open(PATH + link['src'].split('/')[-1], 'wb') as f:\n",
    "            #r.raw.decode_content = True\n",
    "            #shutil.copyfileobj(r.raw, f)\n",
    "        continue\n",
    "    else:\n",
    "        print(link)"
   ]
  },
  {
   "cell_type": "code",
   "execution_count": 49,
   "metadata": {},
   "outputs": [
    {
     "data": {
      "text/plain": [
       "401"
      ]
     },
     "execution_count": 49,
     "metadata": {},
     "output_type": "execute_result"
    }
   ],
   "source": [
    "len(results)"
   ]
  },
  {
   "cell_type": "code",
   "execution_count": 53,
   "metadata": {},
   "outputs": [],
   "source": [
    "PATH_IMG = \"img/2021\"\n",
    "pics= os.listdir(PATH_IMG)"
   ]
  },
  {
   "cell_type": "code",
   "execution_count": 62,
   "metadata": {},
   "outputs": [],
   "source": [
    "for link in results:\n",
    "    if link['src'].split('/')[-1] not in pics:\n",
    "        print(link['src'])"
   ]
  },
  {
   "cell_type": "code",
   "execution_count": 59,
   "metadata": {},
   "outputs": [
    {
     "data": {
      "text/plain": [
       "True"
      ]
     },
     "execution_count": 59,
     "metadata": {},
     "output_type": "execute_result"
    }
   ],
   "source": [
    "results[0]['src'].split('/')[-1] in pics"
   ]
  }
 ],
 "metadata": {
  "kernelspec": {
   "display_name": "Python 3",
   "language": "python",
   "name": "python3"
  },
  "language_info": {
   "codemirror_mode": {
    "name": "ipython",
    "version": 3
   },
   "file_extension": ".py",
   "mimetype": "text/x-python",
   "name": "python",
   "nbconvert_exporter": "python",
   "pygments_lexer": "ipython3",
   "version": "3.8.2"
  }
 },
 "nbformat": 4,
 "nbformat_minor": 4
}